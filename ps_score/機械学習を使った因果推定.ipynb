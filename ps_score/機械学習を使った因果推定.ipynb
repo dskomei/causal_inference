{
 "cells": [
  {
   "cell_type": "markdown",
   "metadata": {},
   "source": [
    "# 機械学習を使った因果推定"
   ]
  },
  {
   "cell_type": "code",
   "execution_count": 64,
   "metadata": {},
   "outputs": [],
   "source": [
    "import random\n",
    "import scipy\n",
    "import pandas as pd\n",
    "import numpy as np\n",
    "from dfply import *\n",
    "from sklearn.linear_model import LogisticRegression\n",
    "from sklearn.neighbors import NearestNeighbors\n",
    "import statsmodels.api as sm\n",
    "import xgboost as xgb\n",
    "import matplotlib.pyplot as plt\n",
    "import seaborn as sns"
   ]
  },
  {
   "cell_type": "code",
   "execution_count": 26,
   "metadata": {},
   "outputs": [],
   "source": [
    "pd.set_option('max_rows', 1000)\n",
    "pd.set_option('max_columns', 1000)"
   ]
  },
  {
   "cell_type": "code",
   "execution_count": 54,
   "metadata": {},
   "outputs": [],
   "source": [
    "def make_ps_score_data(X_data, z_data):\n",
    "\n",
    "    model = LogisticRegression(\n",
    "        penalty='l1', \n",
    "        max_iter=10000,\n",
    "        solver='liblinear',\n",
    "        random_state=42\n",
    "    )\n",
    "    model.fit(X_data, z_data)\n",
    "\n",
    "    ps_score_data = pd.DataFrame({\n",
    "        'z': z_data, \n",
    "        'ps_score': model.predict_proba(X_data)[:, 1]\n",
    "    })\n",
    "    return ps_score_data"
   ]
  },
  {
   "cell_type": "code",
   "execution_count": 55,
   "metadata": {},
   "outputs": [],
   "source": [
    "def plot_smd_data(adjust_smd_data, unadjust_smd_data, covariate_balance_threshold):\n",
    "    \n",
    "    smd_data = adjust_smd_data >> mutate(\n",
    "        type='Adjusted'\n",
    "    ) >> bind_rows(\n",
    "        unadjust_smd_data >> mutate(\n",
    "            type='Unadjusted'\n",
    "        )\n",
    "    )\n",
    "\n",
    "    plot_data = smd_data >> arrange(X.colname, ascending=False)\n",
    "    plt.figure(figsize=(8, 6))\n",
    "    sns.scatterplot(\n",
    "        x='smd',\n",
    "        y='colname',\n",
    "        hue='type',\n",
    "        data=plot_data\n",
    "    )\n",
    "\n",
    "    plot_data = plot_data >> distinct(X.colname) >> mutate(\n",
    "        threshold=covariate_balance_threshold\n",
    "    )\n",
    "    plt.plot(\n",
    "        plot_data['threshold'].tolist(),\n",
    "        plot_data['colname'].tolist(),\n",
    "        linestyle='dashdot',\n",
    "        linewidth=1.2,\n",
    "        color='grey'\n",
    "    )\n",
    "    plt.xlabel('Standard Mean Differences')\n",
    "    plt.yticks(fontsize=14, fontweight='bold')\n",
    "    plt.ylabel('')\n",
    "    plt.xlim(0, 3)\n",
    "    plt.tight_layout()"
   ]
  },
  {
   "cell_type": "code",
   "execution_count": 56,
   "metadata": {},
   "outputs": [],
   "source": [
    "def calc_smd_data_matching(target_data):\n",
    "    \n",
    "    smd_data = target_data >> group_by(X.z, X.colname) >> summarise(\n",
    "        n=X.value.count(),\n",
    "        value_mean=X.value.mean(),\n",
    "        value_std=X.value.std()\n",
    "    ) >> mutate(\n",
    "        std_2_n=(X.n-1)*X.value_std*X.value_std\n",
    "    )\n",
    "    \n",
    "    smd_data = smd_data >> group_by(X.colname) >> summarise(\n",
    "        mean_diff=X.value_mean.diff().values[1]\n",
    "    ) >> mutate(\n",
    "        mean_diff=X.mean_diff.abs()\n",
    "    ) >> left_join(\n",
    "        smd_data >> group_by(X.colname) >> summarise(\n",
    "            s=X.std_2_n.sum()/(X.n.sum() - 2)\n",
    "        ) >> mutate(\n",
    "            s=X.s.apply(lambda x: np.sqrt(x))\n",
    "        ), by='colname'\n",
    "    ) >> mutate(\n",
    "        smd=X.mean_diff/X.s\n",
    "    )\n",
    "    smd_data.fillna(0, inplace=True)\n",
    "    \n",
    "    return smd_data"
   ]
  },
  {
   "cell_type": "code",
   "execution_count": 57,
   "metadata": {},
   "outputs": [],
   "source": [
    "def plot_covariate_balance_matching(target_data, matched_ps_data, z_name, covariate_balance_threshold=0.1):\n",
    "    \n",
    "    adjust_data = target_data.rename(columns={z_name : 'z'}).copy()\n",
    "    adjust_data['index_all'] = adjust_data.index\n",
    "    adjust_data = adjust_data >> rename(\n",
    "        index_treatment=X.index_all\n",
    "    ) >> semi_join(\n",
    "        matched_ps_data, by='index_treatment'\n",
    "    ) >> select(~X.index_treatment) >> bind_rows(\n",
    "        adjust_data >> rename(\n",
    "            index_control=X.index_all\n",
    "        ) >> semi_join(\n",
    "            matched_ps_data, by='index_control'\n",
    "        ) >> select(~X.index_control)\n",
    "    ) >> select(['z'] + x_names)\n",
    "\n",
    "    adjust_data = adjust_data.set_index('z')\n",
    "    adjust_data = adjust_data.stack()\n",
    "    adjust_data = adjust_data.reset_index(drop=False)\n",
    "    adjust_data.columns = ['z', 'colname', 'value']\n",
    "\n",
    "    unadjust_data = target_data.rename(columns={z_name : 'z'}).copy()\n",
    "    unadjust_data = unadjust_data >> select(['z'] + x_names)\n",
    "\n",
    "    unadjust_data = unadjust_data.set_index('z')\n",
    "    unadjust_data = unadjust_data.stack()\n",
    "    unadjust_data = unadjust_data.reset_index(drop=False)\n",
    "    unadjust_data.columns = ['z', 'colname', 'value']\n",
    "\n",
    "    adjust_smd_data = calc_smd_data_matching(adjust_data)\n",
    "    unadjust_smd_data = calc_smd_data_matching(unadjust_data)\n",
    "\n",
    "    plot_smd_data(\n",
    "        adjust_smd_data=adjust_smd_data,\n",
    "        unadjust_smd_data=unadjust_smd_data,\n",
    "        covariate_balance_threshold=covariate_balance_threshold\n",
    "    )"
   ]
  },
  {
   "cell_type": "code",
   "execution_count": 58,
   "metadata": {},
   "outputs": [],
   "source": [
    "def get_matched_propensity_score(target_data, y_name, z_name, x_names, threshold=0.2, \n",
    "                                 flag_covariate_barance=True, covariate_balance_threshold=0.1):\n",
    "    \n",
    "    \n",
    "    ps_score_data = make_ps_score_data(\n",
    "        X_data = target_data >> select(x_names),\n",
    "        z_data = target_data[z_name]\n",
    "    )\n",
    "    ps_score_data['index_all'] = target_data.index\n",
    "    ps_score_data['y'] = target_data[y_name]\n",
    "    \n",
    "\n",
    "    treatment_data = ps_score_data >> filter_by(X.z == 1) >> rename(\n",
    "        index_treatment=X.index_all\n",
    "    )\n",
    "    treatment_data.reset_index(inplace=True, drop=True)\n",
    "    control_data = ps_score_data >> filter_by(X.z == 0) >> rename(\n",
    "        index_control=X.index_all\n",
    "    )\n",
    "    control_data.reset_index(inplace=True, drop=True)\n",
    "\n",
    "\n",
    "    match_index_data = pd.DataFrame()\n",
    "    treatment_data_tmp = treatment_data.copy()\n",
    "    control_data_tmp = control_data.copy()\n",
    "\n",
    "\n",
    "    while len(treatment_data_tmp) > 0 and len(control_data_tmp) > 0:\n",
    "\n",
    "        neigh = NearestNeighbors(n_neighbors=1, algorithm='ball_tree')\n",
    "        neigh.fit(control_data_tmp['ps_score'].values.reshape(-1, 1))\n",
    "        distances, indices = neigh.kneighbors(treatment_data_tmp['ps_score'].values.reshape(-1, 1))\n",
    "\n",
    "        distance_data = pd.DataFrame({\n",
    "            'distance': distances.reshape(-1), \n",
    "            'index_treatment': treatment_data_tmp['index_treatment'].values,\n",
    "            'index_control' : control_data_tmp['index_control'][indices.reshape(-1)]\n",
    "        }) >> filter_by(X.distance <= threshold) >> arrange(X.distance) >> distinct(X.index_control)\n",
    "\n",
    "        if len(distance_data) == 0:\n",
    "            break\n",
    "\n",
    "        match_index_data = match_index_data >> bind_rows(\n",
    "            distance_data >> select(X.index_treatment, X.index_control, X.distance)\n",
    "        )\n",
    "\n",
    "        treatment_data_tmp = treatment_data_tmp >> anti_join(distance_data, by='index_treatment')\n",
    "        control_data_tmp = control_data_tmp >> anti_join(distance_data, by='index_control')\n",
    "\n",
    "        treatment_data_tmp.reset_index(inplace=True, drop=True)\n",
    "        control_data_tmp.reset_index(inplace=True, drop=True)\n",
    "\n",
    "        \n",
    "    match_index_data = match_index_data >> arrange(X.index_treatment)\n",
    "    match_index_data.reset_index(inplace=True, drop=True)\n",
    "\n",
    "    matched_ps_data = match_index_data >> left_join(\n",
    "        ps_score_data >> rename(\n",
    "            y_treatment=X.y,\n",
    "            ps_score_treatment=X.ps_score,\n",
    "            index_treatment=X.index_all\n",
    "        ) >> select(\n",
    "            X.index_treatment, X.y_treatment, X.ps_score_treatment\n",
    "        ), by='index_treatment' \n",
    "    ) >> left_join(\n",
    "        ps_score_data >> rename(\n",
    "            y_control=X.y,\n",
    "            ps_score_control=X.ps_score,\n",
    "            index_control=X.index_all\n",
    "        ) >> select(\n",
    "            X.index_control, X.y_control, X.ps_score_control\n",
    "        ), by='index_control' \n",
    "    ) >> mutate(y_diff=X.y_treatment-X.y_control)\n",
    "    \n",
    "    \n",
    "    target_data_lr = matched_ps_data >> select(X.y_treatment) >> mutate(z=1) >> rename(\n",
    "        y=X.y_treatment\n",
    "    ) >> bind_rows(\n",
    "        matched_ps_data >> select(X.y_control) >> mutate(z=0) >> rename(\n",
    "            y=X.y_control\n",
    "        )\n",
    "    )\n",
    "    X_data = target_data_lr >> select('z')\n",
    "    X_data = sm.add_constant(X_data)\n",
    "    \n",
    "    model = sm.OLS(target_data_lr['y'], X_data)\n",
    "\n",
    "    results = model.fit()\n",
    "    results = results.summary()\n",
    "    \n",
    "    if flag_covariate_barance:\n",
    "        plot_covariate_balance_matching(\n",
    "            target_data=target_data.copy(),\n",
    "            matched_ps_data=matched_ps_data.copy(),\n",
    "            z_name=z_name,\n",
    "            covariate_balance_threshold=covariate_balance_threshold\n",
    "        )\n",
    "    \n",
    "    return results, matched_ps_data"
   ]
  },
  {
   "cell_type": "markdown",
   "metadata": {},
   "source": [
    "## データの作成"
   ]
  },
  {
   "cell_type": "code",
   "execution_count": 23,
   "metadata": {},
   "outputs": [],
   "source": [
    "game_data = pd.read_csv('https://raw.githubusercontent.com/iwanami-datascience/vol3/master/kato%26hoshino/q_data_x.csv')"
   ]
  },
  {
   "cell_type": "code",
   "execution_count": 27,
   "metadata": {},
   "outputs": [
    {
     "data": {
      "text/html": [
       "<div>\n",
       "<style scoped>\n",
       "    .dataframe tbody tr th:only-of-type {\n",
       "        vertical-align: middle;\n",
       "    }\n",
       "\n",
       "    .dataframe tbody tr th {\n",
       "        vertical-align: top;\n",
       "    }\n",
       "\n",
       "    .dataframe thead th {\n",
       "        text-align: right;\n",
       "    }\n",
       "</style>\n",
       "<table border=\"1\" class=\"dataframe\">\n",
       "  <thead>\n",
       "    <tr style=\"text-align: right;\">\n",
       "      <th></th>\n",
       "      <th>cm_dummy</th>\n",
       "      <th>gamedummy</th>\n",
       "      <th>area_kanto</th>\n",
       "      <th>area_keihan</th>\n",
       "      <th>area_tokai</th>\n",
       "      <th>area_keihanshin</th>\n",
       "      <th>age</th>\n",
       "      <th>sex</th>\n",
       "      <th>marry_dummy</th>\n",
       "      <th>job_dummy1</th>\n",
       "      <th>job_dummy2</th>\n",
       "      <th>job_dummy3</th>\n",
       "      <th>job_dummy4</th>\n",
       "      <th>job_dummy5</th>\n",
       "      <th>job_dummy6</th>\n",
       "      <th>job_dummy7</th>\n",
       "      <th>job_dummy8</th>\n",
       "      <th>inc</th>\n",
       "      <th>pmoney</th>\n",
       "      <th>fam_str_dummy1</th>\n",
       "      <th>fam_str_dummy2</th>\n",
       "      <th>fam_str_dummy3</th>\n",
       "      <th>fam_str_dummy4</th>\n",
       "      <th>fam_str_dummy5</th>\n",
       "      <th>child_dummy</th>\n",
       "      <th>T</th>\n",
       "      <th>F1</th>\n",
       "      <th>F2</th>\n",
       "      <th>F3</th>\n",
       "      <th>M1</th>\n",
       "      <th>M2</th>\n",
       "      <th>M3</th>\n",
       "      <th>TVwatch_day</th>\n",
       "      <th>gamesecond</th>\n",
       "      <th>gamecount</th>\n",
       "    </tr>\n",
       "  </thead>\n",
       "  <tbody>\n",
       "    <tr>\n",
       "      <th>0</th>\n",
       "      <td>0</td>\n",
       "      <td>0</td>\n",
       "      <td>0</td>\n",
       "      <td>0</td>\n",
       "      <td>0</td>\n",
       "      <td>1</td>\n",
       "      <td>44.5</td>\n",
       "      <td>1</td>\n",
       "      <td>1</td>\n",
       "      <td>1</td>\n",
       "      <td>0</td>\n",
       "      <td>0</td>\n",
       "      <td>0</td>\n",
       "      <td>0</td>\n",
       "      <td>0</td>\n",
       "      <td>0</td>\n",
       "      <td>0</td>\n",
       "      <td>249.5</td>\n",
       "      <td>0.0</td>\n",
       "      <td>0</td>\n",
       "      <td>0</td>\n",
       "      <td>1</td>\n",
       "      <td>0</td>\n",
       "      <td>0</td>\n",
       "      <td>1</td>\n",
       "      <td>0</td>\n",
       "      <td>0</td>\n",
       "      <td>0</td>\n",
       "      <td>0</td>\n",
       "      <td>0</td>\n",
       "      <td>1</td>\n",
       "      <td>0</td>\n",
       "      <td>33.427600</td>\n",
       "      <td>0</td>\n",
       "      <td>0</td>\n",
       "    </tr>\n",
       "    <tr>\n",
       "      <th>1</th>\n",
       "      <td>0</td>\n",
       "      <td>0</td>\n",
       "      <td>0</td>\n",
       "      <td>1</td>\n",
       "      <td>0</td>\n",
       "      <td>0</td>\n",
       "      <td>34.5</td>\n",
       "      <td>1</td>\n",
       "      <td>1</td>\n",
       "      <td>1</td>\n",
       "      <td>0</td>\n",
       "      <td>0</td>\n",
       "      <td>0</td>\n",
       "      <td>0</td>\n",
       "      <td>0</td>\n",
       "      <td>0</td>\n",
       "      <td>0</td>\n",
       "      <td>800.0</td>\n",
       "      <td>12.5</td>\n",
       "      <td>0</td>\n",
       "      <td>0</td>\n",
       "      <td>1</td>\n",
       "      <td>0</td>\n",
       "      <td>0</td>\n",
       "      <td>1</td>\n",
       "      <td>0</td>\n",
       "      <td>0</td>\n",
       "      <td>0</td>\n",
       "      <td>0</td>\n",
       "      <td>0</td>\n",
       "      <td>1</td>\n",
       "      <td>0</td>\n",
       "      <td>31.542862</td>\n",
       "      <td>0</td>\n",
       "      <td>0</td>\n",
       "    </tr>\n",
       "    <tr>\n",
       "      <th>2</th>\n",
       "      <td>0</td>\n",
       "      <td>0</td>\n",
       "      <td>0</td>\n",
       "      <td>1</td>\n",
       "      <td>0</td>\n",
       "      <td>0</td>\n",
       "      <td>24.5</td>\n",
       "      <td>1</td>\n",
       "      <td>0</td>\n",
       "      <td>0</td>\n",
       "      <td>0</td>\n",
       "      <td>0</td>\n",
       "      <td>0</td>\n",
       "      <td>0</td>\n",
       "      <td>0</td>\n",
       "      <td>1</td>\n",
       "      <td>0</td>\n",
       "      <td>0.0</td>\n",
       "      <td>2.0</td>\n",
       "      <td>0</td>\n",
       "      <td>0</td>\n",
       "      <td>0</td>\n",
       "      <td>1</td>\n",
       "      <td>0</td>\n",
       "      <td>0</td>\n",
       "      <td>0</td>\n",
       "      <td>0</td>\n",
       "      <td>0</td>\n",
       "      <td>0</td>\n",
       "      <td>1</td>\n",
       "      <td>0</td>\n",
       "      <td>0</td>\n",
       "      <td>37.825805</td>\n",
       "      <td>0</td>\n",
       "      <td>0</td>\n",
       "    </tr>\n",
       "    <tr>\n",
       "      <th>3</th>\n",
       "      <td>0</td>\n",
       "      <td>0</td>\n",
       "      <td>0</td>\n",
       "      <td>1</td>\n",
       "      <td>0</td>\n",
       "      <td>0</td>\n",
       "      <td>44.5</td>\n",
       "      <td>1</td>\n",
       "      <td>1</td>\n",
       "      <td>1</td>\n",
       "      <td>0</td>\n",
       "      <td>0</td>\n",
       "      <td>0</td>\n",
       "      <td>0</td>\n",
       "      <td>0</td>\n",
       "      <td>0</td>\n",
       "      <td>0</td>\n",
       "      <td>800.0</td>\n",
       "      <td>2.0</td>\n",
       "      <td>0</td>\n",
       "      <td>0</td>\n",
       "      <td>1</td>\n",
       "      <td>0</td>\n",
       "      <td>0</td>\n",
       "      <td>1</td>\n",
       "      <td>0</td>\n",
       "      <td>0</td>\n",
       "      <td>0</td>\n",
       "      <td>0</td>\n",
       "      <td>0</td>\n",
       "      <td>1</td>\n",
       "      <td>0</td>\n",
       "      <td>36.345911</td>\n",
       "      <td>0</td>\n",
       "      <td>0</td>\n",
       "    </tr>\n",
       "    <tr>\n",
       "      <th>4</th>\n",
       "      <td>0</td>\n",
       "      <td>0</td>\n",
       "      <td>0</td>\n",
       "      <td>1</td>\n",
       "      <td>0</td>\n",
       "      <td>0</td>\n",
       "      <td>34.5</td>\n",
       "      <td>1</td>\n",
       "      <td>1</td>\n",
       "      <td>1</td>\n",
       "      <td>0</td>\n",
       "      <td>0</td>\n",
       "      <td>0</td>\n",
       "      <td>0</td>\n",
       "      <td>0</td>\n",
       "      <td>0</td>\n",
       "      <td>0</td>\n",
       "      <td>749.5</td>\n",
       "      <td>4.0</td>\n",
       "      <td>0</td>\n",
       "      <td>0</td>\n",
       "      <td>1</td>\n",
       "      <td>0</td>\n",
       "      <td>0</td>\n",
       "      <td>1</td>\n",
       "      <td>0</td>\n",
       "      <td>0</td>\n",
       "      <td>0</td>\n",
       "      <td>0</td>\n",
       "      <td>1</td>\n",
       "      <td>0</td>\n",
       "      <td>0</td>\n",
       "      <td>49.344942</td>\n",
       "      <td>0</td>\n",
       "      <td>0</td>\n",
       "    </tr>\n",
       "  </tbody>\n",
       "</table>\n",
       "</div>"
      ],
      "text/plain": [
       "   cm_dummy  gamedummy  area_kanto  area_keihan  area_tokai  area_keihanshin  \\\n",
       "0         0          0           0            0           0                1   \n",
       "1         0          0           0            1           0                0   \n",
       "2         0          0           0            1           0                0   \n",
       "3         0          0           0            1           0                0   \n",
       "4         0          0           0            1           0                0   \n",
       "\n",
       "    age  sex  marry_dummy  job_dummy1  job_dummy2  job_dummy3  job_dummy4  \\\n",
       "0  44.5    1            1           1           0           0           0   \n",
       "1  34.5    1            1           1           0           0           0   \n",
       "2  24.5    1            0           0           0           0           0   \n",
       "3  44.5    1            1           1           0           0           0   \n",
       "4  34.5    1            1           1           0           0           0   \n",
       "\n",
       "   job_dummy5  job_dummy6  job_dummy7  job_dummy8    inc  pmoney  \\\n",
       "0           0           0           0           0  249.5     0.0   \n",
       "1           0           0           0           0  800.0    12.5   \n",
       "2           0           0           1           0    0.0     2.0   \n",
       "3           0           0           0           0  800.0     2.0   \n",
       "4           0           0           0           0  749.5     4.0   \n",
       "\n",
       "   fam_str_dummy1  fam_str_dummy2  fam_str_dummy3  fam_str_dummy4  \\\n",
       "0               0               0               1               0   \n",
       "1               0               0               1               0   \n",
       "2               0               0               0               1   \n",
       "3               0               0               1               0   \n",
       "4               0               0               1               0   \n",
       "\n",
       "   fam_str_dummy5  child_dummy  T  F1  F2  F3  M1  M2  M3  TVwatch_day  \\\n",
       "0               0            1  0   0   0   0   0   1   0    33.427600   \n",
       "1               0            1  0   0   0   0   0   1   0    31.542862   \n",
       "2               0            0  0   0   0   0   1   0   0    37.825805   \n",
       "3               0            1  0   0   0   0   0   1   0    36.345911   \n",
       "4               0            1  0   0   0   0   1   0   0    49.344942   \n",
       "\n",
       "   gamesecond  gamecount  \n",
       "0           0          0  \n",
       "1           0          0  \n",
       "2           0          0  \n",
       "3           0          0  \n",
       "4           0          0  "
      ]
     },
     "execution_count": 27,
     "metadata": {},
     "output_type": "execute_result"
    }
   ],
   "source": [
    "game_data.head()"
   ]
  },
  {
   "cell_type": "markdown",
   "metadata": {},
   "source": [
    "## データの加工"
   ]
  },
  {
   "cell_type": "code",
   "execution_count": 88,
   "metadata": {},
   "outputs": [],
   "source": [
    "Y_data = game_data['gamesecond']\n",
    "Z_data = game_data['cm_dummy']\n",
    "X_data = game_data.drop(columns=['gamesecond', 'cm_dummy', 'gamecount'])\n",
    "\n",
    "X_data_0 = X_data[Z_data == 0]\n",
    "Y_data_0 = Y_data[Z_data == 0]\n",
    "X_data_1 = X_data[Z_data == 1]\n",
    "Y_data_1 = Y_data[Z_data == 1]"
   ]
  },
  {
   "cell_type": "markdown",
   "metadata": {},
   "source": [
    "## T-learner"
   ]
  },
  {
   "cell_type": "code",
   "execution_count": 41,
   "metadata": {},
   "outputs": [],
   "source": [
    "max_depth = 6"
   ]
  },
  {
   "cell_type": "code",
   "execution_count": 42,
   "metadata": {},
   "outputs": [
    {
     "data": {
      "text/plain": [
       "XGBRegressor(base_score=0.5, booster='gbtree', colsample_bylevel=1,\n",
       "             colsample_bynode=1, colsample_bytree=1, gamma=0, gpu_id=-1,\n",
       "             importance_type='gain', interaction_constraints='',\n",
       "             learning_rate=0.300000012, max_delta_step=0, max_depth=6,\n",
       "             min_child_weight=1, missing=nan, monotone_constraints='()',\n",
       "             n_estimators=100, n_jobs=0, num_parallel_tree=1, random_state=0,\n",
       "             reg_alpha=0, reg_lambda=1, scale_pos_weight=1, subsample=1,\n",
       "             tree_method='exact', validate_parameters=1, verbosity=None)"
      ]
     },
     "execution_count": 42,
     "metadata": {},
     "output_type": "execute_result"
    }
   ],
   "source": [
    "model_0 = xgb.XGBRegressor(max_depth=max_depth)\n",
    "model_0.fit(X_data_0], Y_data_0)"
   ]
  },
  {
   "cell_type": "code",
   "execution_count": 43,
   "metadata": {},
   "outputs": [
    {
     "data": {
      "text/plain": [
       "XGBRegressor(base_score=0.5, booster='gbtree', colsample_bylevel=1,\n",
       "             colsample_bynode=1, colsample_bytree=1, gamma=0, gpu_id=-1,\n",
       "             importance_type='gain', interaction_constraints='',\n",
       "             learning_rate=0.300000012, max_delta_step=0, max_depth=6,\n",
       "             min_child_weight=1, missing=nan, monotone_constraints='()',\n",
       "             n_estimators=100, n_jobs=0, num_parallel_tree=1, random_state=0,\n",
       "             reg_alpha=0, reg_lambda=1, scale_pos_weight=1, subsample=1,\n",
       "             tree_method='exact', validate_parameters=1, verbosity=None)"
      ]
     },
     "execution_count": 43,
     "metadata": {},
     "output_type": "execute_result"
    }
   ],
   "source": [
    "model_1 = xgb.XGBRegressor(max_depth=max_depth)\n",
    "model_1.fit(X_data_1, Y_data_1)"
   ]
  },
  {
   "cell_type": "markdown",
   "metadata": {},
   "source": [
    "### ATEを求める"
   ]
  },
  {
   "cell_type": "code",
   "execution_count": 44,
   "metadata": {},
   "outputs": [
    {
     "name": "stdout",
     "output_type": "stream",
     "text": [
      "ATE : -1144.0826416015625, std : 15165.9248046875\n"
     ]
    }
   ],
   "source": [
    "predict_values0 = model_0.predict(X_data)\n",
    "predict_values1 = model_1.predict(X_data)\n",
    "\n",
    "print('ATE : {}, std : {}'.format(\n",
    "    (predict_values1 - predict_values0).mean(),\n",
    "    (predict_values1 - predict_values0).std(),\n",
    "))"
   ]
  },
  {
   "cell_type": "code",
   "execution_count": 46,
   "metadata": {},
   "outputs": [
    {
     "name": "stdout",
     "output_type": "stream",
     "text": [
      "ATE : -387.47368245498495, std : 14073.463144163057\n"
     ]
    }
   ],
   "source": [
    "atts = Y_data_1 - model_0.predict(X_data_1)\n",
    "\n",
    "print('ATE : {}, std : {}'.format(\n",
    "    atts.mean(),\n",
    "    atts.std()\n",
    "))"
   ]
  },
  {
   "cell_type": "code",
   "execution_count": 47,
   "metadata": {},
   "outputs": [
    {
     "name": "stdout",
     "output_type": "stream",
     "text": [
      "ATE : -1679.4995263339647, std : 15874.50890761007\n"
     ]
    }
   ],
   "source": [
    "atus = model_1.predict(X_data_0) - Y_data_0\n",
    "\n",
    "print('ATE : {}, std : {}'.format(\n",
    "    atus.mean(),\n",
    "    atus.std()\n",
    "))"
   ]
  },
  {
   "cell_type": "code",
   "execution_count": 53,
   "metadata": {},
   "outputs": [
    {
     "data": {
      "text/plain": [
       "<seaborn.axisgrid.FacetGrid at 0x130e49d00>"
      ]
     },
     "execution_count": 53,
     "metadata": {},
     "output_type": "execute_result"
    },
    {
     "data": {
      "image/png": "[encoded data removed]",
      "text/plain": [
       "<Figure size 360x360 with 1 Axes>"
      ]
     },
     "metadata": {
      "needs_background": "light"
     },
     "output_type": "display_data"
    }
   ],
   "source": [
    "plot_data = pd.DataFrame({\n",
    "    'z' : Z_data,\n",
    "    'treatment_effect' : model_1.predict(X_data) - model_0.predict(X_data)\n",
    "})\n",
    "\n",
    "sns.catplot(\n",
    "    data=plot_data,\n",
    "    x='z',\n",
    "    y='treatment_effect',\n",
    "    kind='boxen'\n",
    ")"
   ]
  },
  {
   "cell_type": "markdown",
   "metadata": {},
   "source": [
    "## S-leaner"
   ]
  },
  {
   "cell_type": "code",
   "execution_count": 82,
   "metadata": {},
   "outputs": [
    {
     "data": {
      "text/plain": [
       "XGBRegressor(base_score=0.5, booster='gbtree', colsample_bylevel=1,\n",
       "             colsample_bynode=1, colsample_bytree=1, gamma=0, gpu_id=-1,\n",
       "             importance_type='gain', interaction_constraints='',\n",
       "             learning_rate=0.300000012, max_delta_step=0, max_depth=6,\n",
       "             min_child_weight=1, missing=nan, monotone_constraints='()',\n",
       "             n_estimators=100, n_jobs=0, num_parallel_tree=1, random_state=0,\n",
       "             reg_alpha=0, reg_lambda=1, scale_pos_weight=1, subsample=1,\n",
       "             tree_method='exact', validate_parameters=1, verbosity=None)"
      ]
     },
     "execution_count": 82,
     "metadata": {},
     "output_type": "execute_result"
    }
   ],
   "source": [
    "model = xgb.XGBRegressor(max_depth=max_depth)\n",
    "model.fit(pd.concat([X_data, Z_data], axis=1), Y_data)"
   ]
  },
  {
   "cell_type": "code",
   "execution_count": 84,
   "metadata": {},
   "outputs": [
    {
     "name": "stdout",
     "output_type": "stream",
     "text": [
      "ATE : -645.392578125, std : 2756.917724609375\n"
     ]
    }
   ],
   "source": [
    "X_1 = X_data.copy()\n",
    "X_1['cm_dummy'] = 1\n",
    "X_0 = X_data.copy()\n",
    "X_0['cm_dummy'] = 0\n",
    "\n",
    "treatment_effects = model.predict(X_1) - model.predict(X_0)\n",
    "\n",
    "print('ATE : {}, std : {}'.format(\n",
    "    treatment_effects.mean(),\n",
    "    treatment_effects.std()\n",
    "))"
   ]
  },
  {
   "cell_type": "markdown",
   "metadata": {},
   "source": [
    "## X-Learner"
   ]
  },
  {
   "cell_type": "code",
   "execution_count": 93,
   "metadata": {},
   "outputs": [
    {
     "data": {
      "text/plain": [
       "XGBRegressor(base_score=0.5, booster='gbtree', colsample_bylevel=1,\n",
       "             colsample_bynode=1, colsample_bytree=1, gamma=0, gpu_id=-1,\n",
       "             importance_type='gain', interaction_constraints='',\n",
       "             learning_rate=0.300000012, max_delta_step=0, max_depth=6,\n",
       "             min_child_weight=1, missing=nan, monotone_constraints='()',\n",
       "             n_estimators=100, n_jobs=0, num_parallel_tree=1, random_state=0,\n",
       "             reg_alpha=0, reg_lambda=1, scale_pos_weight=1, subsample=1,\n",
       "             tree_method='exact', validate_parameters=1, verbosity=None)"
      ]
     },
     "execution_count": 93,
     "metadata": {},
     "output_type": "execute_result"
    }
   ],
   "source": [
    "model_0 = xgb.XGBRegressor(max_depth=max_depth)\n",
    "model_0.fit(X_data_0, Y_data_0)"
   ]
  },
  {
   "cell_type": "code",
   "execution_count": 90,
   "metadata": {},
   "outputs": [
    {
     "data": {
      "text/plain": [
       "XGBRegressor(base_score=0.5, booster='gbtree', colsample_bylevel=1,\n",
       "             colsample_bynode=1, colsample_bytree=1, gamma=0, gpu_id=-1,\n",
       "             importance_type='gain', interaction_constraints='',\n",
       "             learning_rate=0.300000012, max_delta_step=0, max_depth=6,\n",
       "             min_child_weight=1, missing=nan, monotone_constraints='()',\n",
       "             n_estimators=100, n_jobs=0, num_parallel_tree=1, random_state=0,\n",
       "             reg_alpha=0, reg_lambda=1, scale_pos_weight=1, subsample=1,\n",
       "             tree_method='exact', validate_parameters=1, verbosity=None)"
      ]
     },
     "execution_count": 90,
     "metadata": {},
     "output_type": "execute_result"
    }
   ],
   "source": [
    "model_1 = xgb.XGBRegressor(max_depth=max_depth)\n",
    "model_1.fit(X_data_1, Y_data_1)"
   ]
  },
  {
   "cell_type": "code",
   "execution_count": 94,
   "metadata": {},
   "outputs": [],
   "source": [
    "tau_0 = model_1.predict(X_data_0) - Y_data_0\n",
    "tau_1 = Y_data_1 - model_0.predict(X_data_1)"
   ]
  },
  {
   "cell_type": "code",
   "execution_count": 95,
   "metadata": {},
   "outputs": [
    {
     "data": {
      "text/plain": [
       "XGBRegressor(base_score=0.5, booster='gbtree', colsample_bylevel=1,\n",
       "             colsample_bynode=1, colsample_bytree=1, gamma=0, gpu_id=-1,\n",
       "             importance_type='gain', interaction_constraints='',\n",
       "             learning_rate=0.300000012, max_delta_step=0, max_depth=6,\n",
       "             min_child_weight=1, missing=nan, monotone_constraints='()',\n",
       "             n_estimators=100, n_jobs=0, num_parallel_tree=1, random_state=0,\n",
       "             reg_alpha=0, reg_lambda=1, scale_pos_weight=1, subsample=1,\n",
       "             tree_method='exact', validate_parameters=1, verbosity=None)"
      ]
     },
     "execution_count": 95,
     "metadata": {},
     "output_type": "execute_result"
    }
   ],
   "source": [
    "model_tau_0 = xgb.XGBRegressor(max_depth=max_depth)\n",
    "model_tau_0.fit(X_data_0, tau_0)\n",
    "\n",
    "model_tau_1 = xgb.XGBRegressor(max_depth=max_depth)\n",
    "model_tau_1.fit(X_data_1, tau_1)"
   ]
  },
  {
   "cell_type": "code",
   "execution_count": 98,
   "metadata": {},
   "outputs": [],
   "source": [
    "log = LogisticRegression()\n",
    "log.fit(X_data, Z_data)\n",
    "ps_scores = log.predict_proba(X_data)[:, 1]"
   ]
  },
  {
   "cell_type": "code",
   "execution_count": 100,
   "metadata": {},
   "outputs": [],
   "source": [
    "tau = ps_scores * model_tau_0.predict(X_data) + (1-ps_scores) * model_tau_1.predict(X_data)"
   ]
  },
  {
   "cell_type": "code",
   "execution_count": 102,
   "metadata": {},
   "outputs": [
    {
     "name": "stdout",
     "output_type": "stream",
     "text": [
      "ATE : -1074.4562666515126, std : 10597.226774006378\n"
     ]
    }
   ],
   "source": [
    "print('ATE : {}, std : {}'.format(\n",
    "    tau.mean(),\n",
    "    tau.std()\n",
    "))"
   ]
  },
  {
   "cell_type": "code",
   "execution_count": 114,
   "metadata": {},
   "outputs": [
    {
     "data": {
      "text/plain": [
       "XGBRegressor(base_score=0.5, booster='gbtree', colsample_bylevel=1,\n",
       "             colsample_bynode=1, colsample_bytree=1, gamma=0, gpu_id=-1,\n",
       "             importance_type='gain', interaction_constraints='',\n",
       "             learning_rate=0.300000012, max_delta_step=0, max_depth=6,\n",
       "             min_child_weight=1, missing=nan, monotone_constraints='()',\n",
       "             n_estimators=100, n_jobs=0, num_parallel_tree=1, random_state=0,\n",
       "             reg_alpha=0, reg_lambda=1, scale_pos_weight=1, subsample=1,\n",
       "             tree_method='exact', validate_parameters=1, verbosity=None)"
      ]
     },
     "execution_count": 114,
     "metadata": {},
     "output_type": "execute_result"
    }
   ],
   "source": [
    "model_0 = xgb.XGBRegressor(max_depth=max_depth)\n",
    "model_0.fit(X_data_0, Y_data_0)\n",
    "\n",
    "model_1 = xgb.XGBRegressor(max_depth=max_depth)\n",
    "model_1.fit(X_data_1, Y_data_1)"
   ]
  },
  {
   "cell_type": "code",
   "execution_count": 116,
   "metadata": {},
   "outputs": [],
   "source": [
    "logit = LogisticRegression()\n",
    "logit.fit(X_data, Z_data)\n",
    "ps_scores = logit.predict_proba(X_data)"
   ]
  },
  {
   "cell_type": "code",
   "execution_count": 117,
   "metadata": {},
   "outputs": [],
   "source": [
    "Y_1 = model_1.predict(X_data_1) + (\n",
    "    Y_data_1 - model_1.predict(X_data_1)\n",
    ") / logit.predict_proba(X_data_1)[:, 1]"
   ]
  },
  {
   "cell_type": "code",
   "execution_count": 105,
   "metadata": {},
   "outputs": [
    {
     "name": "stderr",
     "output_type": "stream",
     "text": [
      "The sklearn.utils.testing module is  deprecated in version 0.22 and will be removed in version 0.24. The corresponding classes / functions should instead be imported from sklearn.utils. Anything that cannot be imported from sklearn.utils is now part of the private API.\n"
     ]
    }
   ],
   "source": [
    "from causalml.inference.meta import BaseXRegressor, BaseSRegressor, BaseTRegressor"
   ]
  },
  {
   "cell_type": "code",
   "execution_count": 109,
   "metadata": {},
   "outputs": [],
   "source": [
    "learner_x = BaseXRegressor(learner=xgb.XGBRegressor(random_state=42))"
   ]
  },
  {
   "cell_type": "code",
   "execution_count": 110,
   "metadata": {},
   "outputs": [
    {
     "name": "stderr",
     "output_type": "stream",
     "text": [
      "The max_iter was reached which means the coef_ did not converge\n",
      "The max_iter was reached which means the coef_ did not converge\n",
      "The max_iter was reached which means the coef_ did not converge\n",
      "The max_iter was reached which means the coef_ did not converge\n",
      "The max_iter was reached which means the coef_ did not converge\n",
      "The max_iter was reached which means the coef_ did not converge\n",
      "The max_iter was reached which means the coef_ did not converge\n",
      "The max_iter was reached which means the coef_ did not converge\n",
      "The max_iter was reached which means the coef_ did not converge\n",
      "The max_iter was reached which means the coef_ did not converge\n",
      "The max_iter was reached which means the coef_ did not converge\n",
      "The max_iter was reached which means the coef_ did not converge\n",
      "The max_iter was reached which means the coef_ did not converge\n",
      "The max_iter was reached which means the coef_ did not converge\n",
      "The max_iter was reached which means the coef_ did not converge\n",
      "The max_iter was reached which means the coef_ did not converge\n",
      "The max_iter was reached which means the coef_ did not converge\n",
      "The max_iter was reached which means the coef_ did not converge\n",
      "The max_iter was reached which means the coef_ did not converge\n",
      "The max_iter was reached which means the coef_ did not converge\n",
      "The max_iter was reached which means the coef_ did not converge\n",
      "The max_iter was reached which means the coef_ did not converge\n",
      "The max_iter was reached which means the coef_ did not converge\n",
      "The max_iter was reached which means the coef_ did not converge\n",
      "The max_iter was reached which means the coef_ did not converge\n",
      "The max_iter was reached which means the coef_ did not converge\n",
      "The max_iter was reached which means the coef_ did not converge\n",
      "The max_iter was reached which means the coef_ did not converge\n",
      "The max_iter was reached which means the coef_ did not converge\n",
      "The max_iter was reached which means the coef_ did not converge\n",
      "The max_iter was reached which means the coef_ did not converge\n",
      "The max_iter was reached which means the coef_ did not converge\n",
      "The max_iter was reached which means the coef_ did not converge\n",
      "The max_iter was reached which means the coef_ did not converge\n",
      "The max_iter was reached which means the coef_ did not converge\n",
      "The max_iter was reached which means the coef_ did not converge\n",
      "The max_iter was reached which means the coef_ did not converge\n",
      "The max_iter was reached which means the coef_ did not converge\n",
      "The max_iter was reached which means the coef_ did not converge\n",
      "The max_iter was reached which means the coef_ did not converge\n",
      "The max_iter was reached which means the coef_ did not converge\n",
      "The max_iter was reached which means the coef_ did not converge\n",
      "The max_iter was reached which means the coef_ did not converge\n",
      "The max_iter was reached which means the coef_ did not converge\n",
      "The max_iter was reached which means the coef_ did not converge\n",
      "The max_iter was reached which means the coef_ did not converge\n",
      "The max_iter was reached which means the coef_ did not converge\n",
      "The max_iter was reached which means the coef_ did not converge\n",
      "The max_iter was reached which means the coef_ did not converge\n",
      "The max_iter was reached which means the coef_ did not converge\n",
      "The max_iter was reached which means the coef_ did not converge\n",
      "The max_iter was reached which means the coef_ did not converge\n",
      "The max_iter was reached which means the coef_ did not converge\n",
      "The max_iter was reached which means the coef_ did not converge\n",
      "The max_iter was reached which means the coef_ did not converge\n",
      "The max_iter was reached which means the coef_ did not converge\n",
      "The max_iter was reached which means the coef_ did not converge\n",
      "The max_iter was reached which means the coef_ did not converge\n",
      "The max_iter was reached which means the coef_ did not converge\n",
      "The max_iter was reached which means the coef_ did not converge\n",
      "The max_iter was reached which means the coef_ did not converge\n",
      "The max_iter was reached which means the coef_ did not converge\n",
      "The max_iter was reached which means the coef_ did not converge\n",
      "The max_iter was reached which means the coef_ did not converge\n",
      "The max_iter was reached which means the coef_ did not converge\n"
     ]
    }
   ],
   "source": [
    "learner_x.fit(\n",
    "    X=X_data,\n",
    "    treatment=Z_data,\n",
    "    y=Y_data\n",
    ")"
   ]
  },
  {
   "cell_type": "code",
   "execution_count": 65,
   "metadata": {},
   "outputs": [
    {
     "data": {
      "text/html": [
       "<table class=\"simpletable\">\n",
       "<caption>OLS Regression Results</caption>\n",
       "<tr>\n",
       "  <th>Dep. Variable:</th>            <td>y</td>        <th>  R-squared:         </th> <td>   0.001</td> \n",
       "</tr>\n",
       "<tr>\n",
       "  <th>Model:</th>                   <td>OLS</td>       <th>  Adj. R-squared:    </th> <td>   0.001</td> \n",
       "</tr>\n",
       "<tr>\n",
       "  <th>Method:</th>             <td>Least Squares</td>  <th>  F-statistic:       </th> <td>   7.501</td> \n",
       "</tr>\n",
       "<tr>\n",
       "  <th>Date:</th>             <td>Fri, 20 Nov 2020</td> <th>  Prob (F-statistic):</th>  <td>0.00619</td> \n",
       "</tr>\n",
       "<tr>\n",
       "  <th>Time:</th>                 <td>21:25:02</td>     <th>  Log-Likelihood:    </th> <td> -64189.</td> \n",
       "</tr>\n",
       "<tr>\n",
       "  <th>No. Observations:</th>      <td>  5824</td>      <th>  AIC:               </th> <td>1.284e+05</td>\n",
       "</tr>\n",
       "<tr>\n",
       "  <th>Df Residuals:</th>          <td>  5822</td>      <th>  BIC:               </th> <td>1.284e+05</td>\n",
       "</tr>\n",
       "<tr>\n",
       "  <th>Df Model:</th>              <td>     1</td>      <th>                     </th>     <td> </td>    \n",
       "</tr>\n",
       "<tr>\n",
       "  <th>Covariance Type:</th>      <td>nonrobust</td>    <th>                     </th>     <td> </td>    \n",
       "</tr>\n",
       "</table>\n",
       "<table class=\"simpletable\">\n",
       "<tr>\n",
       "    <td></td>       <th>coef</th>     <th>std err</th>      <th>t</th>      <th>P>|t|</th>  <th>[0.025</th>    <th>0.975]</th>  \n",
       "</tr>\n",
       "<tr>\n",
       "  <th>const</th> <td> 3332.0144</td> <td>  274.345</td> <td>   12.145</td> <td> 0.000</td> <td> 2794.197</td> <td> 3869.832</td>\n",
       "</tr>\n",
       "<tr>\n",
       "  <th>z</th>     <td>-1062.5687</td> <td>  387.982</td> <td>   -2.739</td> <td> 0.006</td> <td>-1823.158</td> <td> -301.980</td>\n",
       "</tr>\n",
       "</table>\n",
       "<table class=\"simpletable\">\n",
       "<tr>\n",
       "  <th>Omnibus:</th>       <td>7232.949</td> <th>  Durbin-Watson:     </th>  <td>   1.223</td> \n",
       "</tr>\n",
       "<tr>\n",
       "  <th>Prob(Omnibus):</th>  <td> 0.000</td>  <th>  Jarque-Bera (JB):  </th> <td>781067.241</td>\n",
       "</tr>\n",
       "<tr>\n",
       "  <th>Skew:</th>           <td> 6.940</td>  <th>  Prob(JB):          </th>  <td>    0.00</td> \n",
       "</tr>\n",
       "<tr>\n",
       "  <th>Kurtosis:</th>       <td>58.009</td>  <th>  Cond. No.          </th>  <td>    2.62</td> \n",
       "</tr>\n",
       "</table><br/><br/>Notes:<br/>[1] Standard Errors assume that the covariance matrix of the errors is correctly specified."
      ],
      "text/plain": [
       "<class 'statsmodels.iolib.summary.Summary'>\n",
       "\"\"\"\n",
       "                            OLS Regression Results                            \n",
       "==============================================================================\n",
       "Dep. Variable:                      y   R-squared:                       0.001\n",
       "Model:                            OLS   Adj. R-squared:                  0.001\n",
       "Method:                 Least Squares   F-statistic:                     7.501\n",
       "Date:                Fri, 20 Nov 2020   Prob (F-statistic):            0.00619\n",
       "Time:                        21:25:02   Log-Likelihood:                -64189.\n",
       "No. Observations:                5824   AIC:                         1.284e+05\n",
       "Df Residuals:                    5822   BIC:                         1.284e+05\n",
       "Df Model:                           1                                         \n",
       "Covariance Type:            nonrobust                                         \n",
       "==============================================================================\n",
       "                 coef    std err          t      P>|t|      [0.025      0.975]\n",
       "------------------------------------------------------------------------------\n",
       "const       3332.0144    274.345     12.145      0.000    2794.197    3869.832\n",
       "z          -1062.5687    387.982     -2.739      0.006   -1823.158    -301.980\n",
       "==============================================================================\n",
       "Omnibus:                     7232.949   Durbin-Watson:                   1.223\n",
       "Prob(Omnibus):                  0.000   Jarque-Bera (JB):           781067.241\n",
       "Skew:                           6.940   Prob(JB):                         0.00\n",
       "Kurtosis:                      58.009   Cond. No.                         2.62\n",
       "==============================================================================\n",
       "\n",
       "Notes:\n",
       "[1] Standard Errors assume that the covariance matrix of the errors is correctly specified.\n",
       "\"\"\""
      ]
     },
     "execution_count": 65,
     "metadata": {},
     "output_type": "execute_result"
    },
    {
     "data": {
      "image/png": "[encoded data removed]",
      "text/plain": [
       "<Figure size 576x432 with 1 Axes>"
      ]
     },
     "metadata": {
      "needs_background": "light"
     },
     "output_type": "display_data"
    }
   ],
   "source": [
    "target_data = game_data.copy()\n",
    "\n",
    "y_name = 'gamesecond'\n",
    "z_name = 'cm_dummy'\n",
    "x_names = X_data.columns.tolist()\n",
    "\n",
    "results, matched_ps_data = get_matched_propensity_score(\n",
    "    target_data=target_data.copy(),\n",
    "    y_name=y_name,\n",
    "    z_name=z_name,\n",
    "    x_names=x_names,\n",
    "    threshold=0.2,\n",
    "    flag_covariate_barance=True,\n",
    "    covariate_balance_threshold=0.1\n",
    ")\n",
    "\n",
    "results"
   ]
  },
  {
   "cell_type": "code",
   "execution_count": null,
   "metadata": {},
   "outputs": [],
   "source": []
  }
 ],
 "metadata": {
  "kernelspec": {
   "display_name": "Python 3",
   "language": "python",
   "name": "python3"
  },
  "language_info": {
   "codemirror_mode": {
    "name": "ipython",
    "version": 3
   },
   "file_extension": ".py",
   "mimetype": "text/x-python",
   "name": "python",
   "nbconvert_exporter": "python",
   "pygments_lexer": "ipython3",
   "version": "3.8.6"
  }
 },
 "nbformat": 4,
 "nbformat_minor": 4
}
