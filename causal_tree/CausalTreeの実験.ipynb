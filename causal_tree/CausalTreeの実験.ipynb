{
 "cells": [
  {
   "cell_type": "code",
   "execution_count": 81,
   "metadata": {},
   "outputs": [],
   "source": [
    "from pathlib import Path\n",
    "import pandas as pd\n",
    "from CTL.causal_tree_learn import CausalTree\n",
    "from CTL.causal_learn_forest import CausalTreeLearnForest\n",
    "from sklearn.linear_model import LogisticRegression\n",
    "from sklearn.model_selection import train_test_split\n",
    "import numpy as np\n",
    "from dfply import *\n",
    "import seaborn as sns\n",
    "import matplotlib.pyplot as plt\n",
    "from scipy.stats import t"
   ]
  },
  {
   "cell_type": "code",
   "execution_count": 2,
   "metadata": {},
   "outputs": [],
   "source": [
    "%load_ext autoreload\n",
    "%autoreload 2\n",
    "pd.set_option('max_rows', 1000)\n",
    "pd.set_option('max_columns', 1000)"
   ]
  },
  {
   "cell_type": "markdown",
   "metadata": {},
   "source": [
    "## パラメータの設定"
   ]
  },
  {
   "cell_type": "code",
   "execution_count": 3,
   "metadata": {},
   "outputs": [],
   "source": [
    "np.random.seed(42)\n",
    "result_dir_path = Path('result')\n",
    "\n",
    "if not result_dir_path.exists():\n",
    "    result_dir_path.mkdir(parents=True)"
   ]
  },
  {
   "cell_type": "markdown",
   "metadata": {},
   "source": [
    "## 関数の定義"
   ]
  },
  {
   "cell_type": "code",
   "execution_count": 120,
   "metadata": {},
   "outputs": [],
   "source": [
    "def t_test(x, mu=0, alpha = 0.95):\n",
    "    \n",
    "    if not type(x) is np.ndarray:\n",
    "        x = np.array(x)\n",
    "    \n",
    "    x_mean = x.mean()\n",
    "\n",
    "    # numpyのデフォルトでは標準偏差なため,\n",
    "    # 引数ddof=1を指定して不偏標準偏差とする\n",
    "    x_std = x.std(ddof=1)\n",
    "\n",
    "    # t値の導出\n",
    "    t_value = (x_mean-mu) / (x_std / np.sqrt(x.size))\n",
    "\n",
    "    # 自由度n-1の確率密度関数\n",
    "    p_value = t.cdf(x=t_value, df=x.size-1)\n",
    "    if t_value > 0:\n",
    "        p_value = 1 - p_value\n",
    "\n",
    "    intervals = t.interval(alpha=alpha, df=x.size-1)\n",
    "\n",
    "    print('標本平均 = {:.2f}, 不偏標準偏差 = {:.2f}'.format(x_mean, x_std))\n",
    "    print('p値 = {:.2f}%'.format(p_value))\n",
    "    print('t値 = {:.2f}'.format(t_value))\n",
    "    print('{}%のt値の範囲:({:.2f}, {:.2f})'.format(\n",
    "        int(alpha*100),\n",
    "        intervals[0],\n",
    "        intervals[1]\n",
    "    ))"
   ]
  },
  {
   "cell_type": "markdown",
   "metadata": {},
   "source": [
    "## NSWデータの分析"
   ]
  },
  {
   "cell_type": "markdown",
   "metadata": {},
   "source": [
    "### データの取得"
   ]
  },
  {
   "cell_type": "code",
   "execution_count": 4,
   "metadata": {},
   "outputs": [],
   "source": [
    "nswdw_data = pd.read_stata('https://users.nber.org/~rdehejia/data/nsw_dw.dta')\n",
    "cps1_data = pd.read_stata('https://users.nber.org/~rdehejia/data/cps_controls.dta')"
   ]
  },
  {
   "cell_type": "code",
   "execution_count": 5,
   "metadata": {},
   "outputs": [
    {
     "data": {
      "text/html": [
       "<div>\n",
       "<style scoped>\n",
       "    .dataframe tbody tr th:only-of-type {\n",
       "        vertical-align: middle;\n",
       "    }\n",
       "\n",
       "    .dataframe tbody tr th {\n",
       "        vertical-align: top;\n",
       "    }\n",
       "\n",
       "    .dataframe thead th {\n",
       "        text-align: right;\n",
       "    }\n",
       "</style>\n",
       "<table border=\"1\" class=\"dataframe\">\n",
       "  <thead>\n",
       "    <tr style=\"text-align: right;\">\n",
       "      <th></th>\n",
       "      <th>data_id</th>\n",
       "      <th>treat</th>\n",
       "      <th>age</th>\n",
       "      <th>education</th>\n",
       "      <th>black</th>\n",
       "      <th>hispanic</th>\n",
       "      <th>married</th>\n",
       "      <th>nodegree</th>\n",
       "      <th>re74</th>\n",
       "      <th>re75</th>\n",
       "      <th>re78</th>\n",
       "    </tr>\n",
       "  </thead>\n",
       "  <tbody>\n",
       "    <tr>\n",
       "      <th>0</th>\n",
       "      <td>Dehejia-Wahba Sample</td>\n",
       "      <td>1.0</td>\n",
       "      <td>37.0</td>\n",
       "      <td>11.0</td>\n",
       "      <td>1.0</td>\n",
       "      <td>0.0</td>\n",
       "      <td>1.0</td>\n",
       "      <td>1.0</td>\n",
       "      <td>0.0</td>\n",
       "      <td>0.0</td>\n",
       "      <td>9930.045898</td>\n",
       "    </tr>\n",
       "    <tr>\n",
       "      <th>1</th>\n",
       "      <td>Dehejia-Wahba Sample</td>\n",
       "      <td>1.0</td>\n",
       "      <td>22.0</td>\n",
       "      <td>9.0</td>\n",
       "      <td>0.0</td>\n",
       "      <td>1.0</td>\n",
       "      <td>0.0</td>\n",
       "      <td>1.0</td>\n",
       "      <td>0.0</td>\n",
       "      <td>0.0</td>\n",
       "      <td>3595.894043</td>\n",
       "    </tr>\n",
       "    <tr>\n",
       "      <th>2</th>\n",
       "      <td>Dehejia-Wahba Sample</td>\n",
       "      <td>1.0</td>\n",
       "      <td>30.0</td>\n",
       "      <td>12.0</td>\n",
       "      <td>1.0</td>\n",
       "      <td>0.0</td>\n",
       "      <td>0.0</td>\n",
       "      <td>0.0</td>\n",
       "      <td>0.0</td>\n",
       "      <td>0.0</td>\n",
       "      <td>24909.449219</td>\n",
       "    </tr>\n",
       "    <tr>\n",
       "      <th>3</th>\n",
       "      <td>Dehejia-Wahba Sample</td>\n",
       "      <td>1.0</td>\n",
       "      <td>27.0</td>\n",
       "      <td>11.0</td>\n",
       "      <td>1.0</td>\n",
       "      <td>0.0</td>\n",
       "      <td>0.0</td>\n",
       "      <td>1.0</td>\n",
       "      <td>0.0</td>\n",
       "      <td>0.0</td>\n",
       "      <td>7506.145996</td>\n",
       "    </tr>\n",
       "    <tr>\n",
       "      <th>4</th>\n",
       "      <td>Dehejia-Wahba Sample</td>\n",
       "      <td>1.0</td>\n",
       "      <td>33.0</td>\n",
       "      <td>8.0</td>\n",
       "      <td>1.0</td>\n",
       "      <td>0.0</td>\n",
       "      <td>0.0</td>\n",
       "      <td>1.0</td>\n",
       "      <td>0.0</td>\n",
       "      <td>0.0</td>\n",
       "      <td>289.789886</td>\n",
       "    </tr>\n",
       "  </tbody>\n",
       "</table>\n",
       "</div>"
      ],
      "text/plain": [
       "                data_id  treat   age  education  black  hispanic  married  \\\n",
       "0  Dehejia-Wahba Sample    1.0  37.0       11.0    1.0       0.0      1.0   \n",
       "1  Dehejia-Wahba Sample    1.0  22.0        9.0    0.0       1.0      0.0   \n",
       "2  Dehejia-Wahba Sample    1.0  30.0       12.0    1.0       0.0      0.0   \n",
       "3  Dehejia-Wahba Sample    1.0  27.0       11.0    1.0       0.0      0.0   \n",
       "4  Dehejia-Wahba Sample    1.0  33.0        8.0    1.0       0.0      0.0   \n",
       "\n",
       "   nodegree  re74  re75          re78  \n",
       "0       1.0   0.0   0.0   9930.045898  \n",
       "1       1.0   0.0   0.0   3595.894043  \n",
       "2       0.0   0.0   0.0  24909.449219  \n",
       "3       1.0   0.0   0.0   7506.145996  \n",
       "4       1.0   0.0   0.0    289.789886  "
      ]
     },
     "execution_count": 5,
     "metadata": {},
     "output_type": "execute_result"
    }
   ],
   "source": [
    "nswdw_data.head()"
   ]
  },
  {
   "cell_type": "markdown",
   "metadata": {},
   "source": [
    "### データの加工"
   ]
  },
  {
   "cell_type": "code",
   "execution_count": 6,
   "metadata": {},
   "outputs": [],
   "source": [
    "cps1_nsw_data = nswdw_data >> filter_by(\n",
    "    X.treat == 1\n",
    ") >> bind_rows(\n",
    "    cps1_data\n",
    ")\n",
    "cps1_nsw_data.reset_index(inplace=True, drop=True)"
   ]
  },
  {
   "cell_type": "markdown",
   "metadata": {},
   "source": [
    "### CausalTreeによる効果検証"
   ]
  },
  {
   "cell_type": "markdown",
   "metadata": {},
   "source": [
    "#### 理想的なデータの効果検証"
   ]
  },
  {
   "cell_type": "code",
   "execution_count": 173,
   "metadata": {},
   "outputs": [],
   "source": [
    "target_data = nswdw_data >> select(~X.data_id)\n",
    "y_name = 're78'\n",
    "z_name = 'treat'\n",
    "\n",
    "Y_data = target_data[y_name].values\n",
    "Z_data = target_data[z_name].values\n",
    "X_data = target_data.drop(columns=[y_name, z_name])\n",
    "x_names = X_data.columns.tolist()\n",
    "X_data = X_data.values"
   ]
  },
  {
   "cell_type": "code",
   "execution_count": 180,
   "metadata": {},
   "outputs": [],
   "source": [
    "ctl = CausalTree(val_honest=True)\n",
    "ctl.fit(X_data, Y_data, Z_data)\n",
    "ctl.prune()\n",
    "predict_values = ctl.predict(X_data)"
   ]
  },
  {
   "cell_type": "code",
   "execution_count": 181,
   "metadata": {},
   "outputs": [
    {
     "name": "stdout",
     "output_type": "stream",
     "text": [
      "標本平均 = 1325.40, 不偏標準偏差 = 2892.19\n",
      "p値 = 0.00%\n",
      "t値 = 9.67\n",
      "95%のt値の範囲:(-1.97, 1.97)\n"
     ]
    }
   ],
   "source": [
    "t_test(predict_values, mu=0, alpha=0.95)"
   ]
  },
  {
   "cell_type": "code",
   "execution_count": 182,
   "metadata": {},
   "outputs": [
    {
     "data": {
      "text/plain": [
       "<matplotlib.axes._subplots.AxesSubplot at 0x1367aadd0>"
      ]
     },
     "execution_count": 182,
     "metadata": {},
     "output_type": "execute_result"
    },
    {
     "data": {
      "image/png": "[encoded data removed]",
      "text/plain": [
       "<Figure size 432x288 with 1 Axes>"
      ]
     },
     "metadata": {
      "needs_background": "light"
     },
     "output_type": "display_data"
    }
   ],
   "source": [
    "sns.distplot(predict_values)"
   ]
  },
  {
   "cell_type": "code",
   "execution_count": 183,
   "metadata": {},
   "outputs": [],
   "source": [
    "ctl.plot_tree(\n",
    "    features=x_names, \n",
    "    filename=result_dir_path.joinpath('causal_tree_nswd').__str__(),\n",
    "    show_effect=True\n",
    ")"
   ]
  },
  {
   "cell_type": "markdown",
   "metadata": {},
   "source": [
    "#### 恣意的な割り当てデータの効果検証"
   ]
  },
  {
   "cell_type": "code",
   "execution_count": 184,
   "metadata": {},
   "outputs": [],
   "source": [
    "target_data = cps1_nsw_data >> select(~X.data_id)\n",
    "y_name = 're78'\n",
    "z_name = 'treat'\n",
    "\n",
    "Y_data = target_data[y_name].values\n",
    "Z_data = target_data[z_name].values\n",
    "X_data = target_data.drop(columns=[y_name, z_name])\n",
    "X_data = X_data.values"
   ]
  },
  {
   "cell_type": "code",
   "execution_count": 189,
   "metadata": {},
   "outputs": [],
   "source": [
    "ctl = CausalTree(val_honest=True)\n",
    "ctl.fit(X_data, Y_data, Z_data)\n",
    "ctl.prune()\n",
    "predict_values = ctl.predict(X_data)"
   ]
  },
  {
   "cell_type": "code",
   "execution_count": 190,
   "metadata": {},
   "outputs": [
    {
     "name": "stdout",
     "output_type": "stream",
     "text": [
      "標本平均 = -7701.39, 不偏標準偏差 = 4664.28\n",
      "p値 = 0.00%\n",
      "t値 = -210.01\n",
      "95%のt値の範囲:(-1.96, 1.96)\n"
     ]
    }
   ],
   "source": [
    "t_test(predict_values, mu=0, alpha=0.95)"
   ]
  },
  {
   "cell_type": "code",
   "execution_count": 191,
   "metadata": {},
   "outputs": [
    {
     "data": {
      "text/plain": [
       "<matplotlib.axes._subplots.AxesSubplot at 0x136c4b210>"
      ]
     },
     "execution_count": 191,
     "metadata": {},
     "output_type": "execute_result"
    },
    {
     "data": {
      "image/png": "[encoded data removed]",
      "text/plain": [
       "<Figure size 432x288 with 1 Axes>"
      ]
     },
     "metadata": {
      "needs_background": "light"
     },
     "output_type": "display_data"
    }
   ],
   "source": [
    "sns.distplot(predict_values)"
   ]
  },
  {
   "cell_type": "code",
   "execution_count": 192,
   "metadata": {},
   "outputs": [],
   "source": [
    "ctl.plot_tree(\n",
    "    features=x_names, \n",
    "    filename=result_dir_path.joinpath('causal_tree_cps').__str__(),\n",
    "    show_effect=True\n",
    ")"
   ]
  },
  {
   "cell_type": "markdown",
   "metadata": {},
   "source": [
    "#### 極端な偏りがあるデータを取り除いたデータの効果検証"
   ]
  },
  {
   "cell_type": "code",
   "execution_count": 17,
   "metadata": {},
   "outputs": [],
   "source": [
    "target_data = cps1_nsw_data >> select(~X.data_id)\n",
    "y_name = 're78'\n",
    "z_name = 'treat'\n",
    "\n",
    "Z_data = target_data[z_name].values\n",
    "X_data = target_data.drop(columns=[y_name, z_name])"
   ]
  },
  {
   "cell_type": "code",
   "execution_count": 18,
   "metadata": {},
   "outputs": [],
   "source": [
    "model = LogisticRegression(\n",
    "    penalty='l1', \n",
    "    max_iter=10000,\n",
    "    solver='liblinear',\n",
    "    random_state=42\n",
    ")\n",
    "model.fit(X_data, Z_data)\n",
    "ps_scores = model.predict_proba(X_data)[:, 1]"
   ]
  },
  {
   "cell_type": "code",
   "execution_count": 19,
   "metadata": {},
   "outputs": [],
   "source": [
    "learning_data = target_data.copy()\n",
    "learning_data['ps_score'] = ps_scores\n",
    "\n",
    "learning_data = learning_data >> filter_by(X.ps_score >= 0.1, X.ps_score <= 0.9)\n",
    "\n",
    "Y_data = learning_data[y_name].values\n",
    "Z_data = learning_data[z_name].values\n",
    "X_data = learning_data.drop(columns=[y_name, z_name])\n",
    "X_data = X_data.values"
   ]
  },
  {
   "cell_type": "code",
   "execution_count": 20,
   "metadata": {},
   "outputs": [],
   "source": [
    "ctl = CausalTree(magnitude=False)\n",
    "ctl.fit(X_data, Y_data, Z_data)\n",
    "ctl.prune()\n",
    "predict_values = ctl.predict(X_data)"
   ]
  },
  {
   "cell_type": "code",
   "execution_count": 21,
   "metadata": {},
   "outputs": [
    {
     "name": "stdout",
     "output_type": "stream",
     "text": [
      "平均値：1716, 中央値:133, 標準偏差:4145.317807905444\n"
     ]
    }
   ],
   "source": [
    "print('平均値：{:.0f}, 中央値:{:.0f}, 標準偏差:{}'.format(\n",
    "    np.mean(predict_values),\n",
    "    np.median(predict_values),\n",
    "    np.std(predict_values)\n",
    "))"
   ]
  },
  {
   "cell_type": "code",
   "execution_count": 22,
   "metadata": {},
   "outputs": [
    {
     "data": {
      "text/plain": [
       "<matplotlib.axes._subplots.AxesSubplot at 0x1346b9b10>"
      ]
     },
     "execution_count": 22,
     "metadata": {},
     "output_type": "execute_result"
    },
    {
     "data": {
      "image/png": "[encoded data removed]",
      "text/plain": [
       "<Figure size 432x288 with 1 Axes>"
      ]
     },
     "metadata": {
      "needs_background": "light"
     },
     "output_type": "display_data"
    }
   ],
   "source": [
    "sns.distplot(predict_values)"
   ]
  },
  {
   "cell_type": "code",
   "execution_count": 179,
   "metadata": {},
   "outputs": [],
   "source": [
    "ctl.plot_tree(\n",
    "    features=x_names, \n",
    "    filename=result_dir_path.joinpath('causal_tree_cps_cut').__str__(),\n",
    "    show_effect=True\n",
    ")"
   ]
  },
  {
   "cell_type": "markdown",
   "metadata": {},
   "source": [
    "## Gameデータの分析"
   ]
  },
  {
   "cell_type": "markdown",
   "metadata": {},
   "source": [
    "### データの取得"
   ]
  },
  {
   "cell_type": "code",
   "execution_count": 191,
   "metadata": {},
   "outputs": [],
   "source": [
    "game_data = pd.read_csv('https://raw.githubusercontent.com/iwanami-datascience/vol3/master/kato%26hoshino/q_data_x.csv')"
   ]
  },
  {
   "cell_type": "markdown",
   "metadata": {},
   "source": [
    "### 効果検証"
   ]
  },
  {
   "cell_type": "code",
   "execution_count": 199,
   "metadata": {},
   "outputs": [],
   "source": [
    "Y_data = game_data['gamesecond'].values\n",
    "Z_data = game_data['cm_dummy'].values\n",
    "X_data = game_data >> select(\n",
    "    X.TVwatch_day, X.age, X.sex, X.marry_dummy, X.child_dummy,\n",
    "    X.inc, X.pmoney, X.area_kanto, X.area_tokai, X.area_keihanshin, \n",
    "    X.job_dummy1, X.job_dummy2, X.job_dummy3, X.job_dummy4,\n",
    "    X.job_dummy5, X.job_dummy6, X.job_dummy7, X.fam_str_dummy1, \n",
    "    X.fam_str_dummy2, X.fam_str_dummy3, X.fam_str_dummy4\n",
    ")\n",
    "x_names = X_data.columns.tolist()\n",
    "X_data = X_data.values"
   ]
  },
  {
   "cell_type": "code",
   "execution_count": 200,
   "metadata": {},
   "outputs": [],
   "source": [
    "ctl = CausalTree(magnitude=False)\n",
    "ctl.fit(X_data, Y_data, Z_data)\n",
    "ctl.prune()\n",
    "predict_values = ctl.predict(X_data)"
   ]
  },
  {
   "cell_type": "code",
   "execution_count": 201,
   "metadata": {},
   "outputs": [
    {
     "name": "stdout",
     "output_type": "stream",
     "text": [
      "平均値：2166, 中央値:0, 標準偏差:24240.38514775589\n"
     ]
    }
   ],
   "source": [
    "print('平均値：{:.0f}, 中央値:{:.0f}, 標準偏差:{}'.format(\n",
    "    np.mean(predict_values),\n",
    "    np.median(predict_values),\n",
    "    np.std(predict_values)\n",
    "))"
   ]
  },
  {
   "cell_type": "code",
   "execution_count": 202,
   "metadata": {},
   "outputs": [
    {
     "data": {
      "text/plain": [
       "<matplotlib.axes._subplots.AxesSubplot at 0x138e89c90>"
      ]
     },
     "execution_count": 202,
     "metadata": {},
     "output_type": "execute_result"
    },
    {
     "data": {
      "image/png": "[encoded data removed]",
      "text/plain": [
       "<Figure size 432x288 with 1 Axes>"
      ]
     },
     "metadata": {
      "needs_background": "light"
     },
     "output_type": "display_data"
    }
   ],
   "source": [
    "sns.distplot(predict_values)"
   ]
  },
  {
   "cell_type": "code",
   "execution_count": 203,
   "metadata": {},
   "outputs": [],
   "source": [
    "ctl.plot_tree(\n",
    "    features=x_names, \n",
    "    filename=result_dir_path.joinpath('causal_tree_game').__str__(),\n",
    "    show_effect=True\n",
    ")"
   ]
  },
  {
   "cell_type": "markdown",
   "metadata": {},
   "source": [
    "#### 傾向スコアにより抽出したデータの効果検証"
   ]
  },
  {
   "cell_type": "code",
   "execution_count": 211,
   "metadata": {},
   "outputs": [],
   "source": [
    "Z_data = game_data['cm_dummy'].values\n",
    "X_data = game_data >> select(\n",
    "    X.TVwatch_day, X.age, X.sex, X.marry_dummy, X.child_dummy,\n",
    "    X.inc, X.pmoney, X.area_kanto, X.area_tokai, X.area_keihanshin, \n",
    "    X.job_dummy1, X.job_dummy2, X.job_dummy3, X.job_dummy4,\n",
    "    X.job_dummy5, X.job_dummy6, X.job_dummy7, X.fam_str_dummy1, \n",
    "    X.fam_str_dummy2, X.fam_str_dummy3, X.fam_str_dummy4\n",
    ")\n",
    "x_names = X_data.columns.tolist()"
   ]
  },
  {
   "cell_type": "code",
   "execution_count": 205,
   "metadata": {},
   "outputs": [],
   "source": [
    "model = LogisticRegression(\n",
    "    penalty='l1', \n",
    "    max_iter=10000,\n",
    "    solver='liblinear',\n",
    "    random_state=42\n",
    ")\n",
    "model.fit(X_data, Z_data)\n",
    "ps_scores = model.predict_proba(X_data)[:, 1]"
   ]
  },
  {
   "cell_type": "code",
   "execution_count": 218,
   "metadata": {},
   "outputs": [
    {
     "data": {
      "text/plain": [
       "<matplotlib.legend.Legend at 0x138cca8d0>"
      ]
     },
     "execution_count": 218,
     "metadata": {},
     "output_type": "execute_result"
    },
    {
     "data": {
      "image/png": "[encoded data removed]",
      "text/plain": [
       "<Figure size 432x288 with 1 Axes>"
      ]
     },
     "metadata": {
      "needs_background": "light"
     },
     "output_type": "display_data"
    }
   ],
   "source": [
    "plot_data = game_data >> select(\n",
    "    X.cm_dummy, X.TVwatch_day, X.age, X.sex, X.marry_dummy, X.child_dummy,\n",
    "    X.inc, X.pmoney, X.area_kanto, X.area_tokai, X.area_keihanshin, \n",
    "    X.job_dummy1, X.job_dummy2, X.job_dummy3, X.job_dummy4,\n",
    "    X.job_dummy5, X.job_dummy6, X.job_dummy7, X.fam_str_dummy1, \n",
    "    X.fam_str_dummy2, X.fam_str_dummy3, X.fam_str_dummy4\n",
    ")\n",
    "plot_data['ps_score'] = ps_scores\n",
    "\n",
    "z1_data = plot_data >> filter_by(X.cm_dummy == 1)\n",
    "z0_data = plot_data >> filter_by(X.cm_dummy == 0)\n",
    "sns.distplot(z1_data['ps_score'], label='処置群')\n",
    "sns.distplot(z0_data['ps_score'], label='対処群')\n",
    "plt.legend()"
   ]
  },
  {
   "cell_type": "code",
   "execution_count": 220,
   "metadata": {},
   "outputs": [],
   "source": [
    "learning_data = game_data.copy()\n",
    "learning_data['ps_score'] = ps_scores\n",
    "\n",
    "learning_data = learning_data >> filter_by(X.ps_score >= 0.1, X.ps_score <= 0.9)\n",
    "\n",
    "Y_data = learning_data['gamesecond'].values\n",
    "Z_data = learning_data['cm_dummy'].values\n",
    "X_data = learning_data >> select(\n",
    "    X.TVwatch_day, X.age, X.sex, X.marry_dummy, X.child_dummy,\n",
    "    X.inc, X.pmoney, X.area_kanto, X.area_tokai, X.area_keihanshin, \n",
    "    X.job_dummy1, X.job_dummy2, X.job_dummy3, X.job_dummy4,\n",
    "    X.job_dummy5, X.job_dummy6, X.job_dummy7, X.fam_str_dummy1, \n",
    "    X.fam_str_dummy2, X.fam_str_dummy3, X.fam_str_dummy4\n",
    ")\n",
    "x_names = X_data.columns.tolist()\n",
    "X_data = X_data.values"
   ]
  },
  {
   "cell_type": "code",
   "execution_count": 221,
   "metadata": {},
   "outputs": [],
   "source": [
    "ctl = CausalTree(magnitude=False)\n",
    "ctl.fit(X_data, Y_data, Z_data)\n",
    "ctl.prune()\n",
    "predict_values = ctl.predict(X_data)"
   ]
  },
  {
   "cell_type": "code",
   "execution_count": 222,
   "metadata": {},
   "outputs": [
    {
     "name": "stdout",
     "output_type": "stream",
     "text": [
      "平均値：-1067, 中央値:0, 標準偏差:24257.205464702747\n"
     ]
    }
   ],
   "source": [
    "print('平均値：{:.0f}, 中央値:{:.0f}, 標準偏差:{}'.format(\n",
    "    np.mean(predict_values),\n",
    "    np.median(predict_values),\n",
    "    np.std(predict_values)\n",
    "))"
   ]
  },
  {
   "cell_type": "code",
   "execution_count": 225,
   "metadata": {},
   "outputs": [],
   "source": [
    "ctl.plot_tree(\n",
    "    features=x_names, \n",
    "    filename=result_dir_path.joinpath('causal_tree_game_cut').__str__(),\n",
    "    show_effect=True\n",
    ")"
   ]
  },
  {
   "cell_type": "code",
   "execution_count": null,
   "metadata": {},
   "outputs": [],
   "source": []
  }
 ],
 "metadata": {
  "kernelspec": {
   "display_name": "Python 3",
   "language": "python",
   "name": "python3"
  },
  "language_info": {
   "codemirror_mode": {
    "name": "ipython",
    "version": 3
   },
   "file_extension": ".py",
   "mimetype": "text/x-python",
   "name": "python",
   "nbconvert_exporter": "python",
   "pygments_lexer": "ipython3",
   "version": "3.8.6"
  }
 },
 "nbformat": 4,
 "nbformat_minor": 4
}
